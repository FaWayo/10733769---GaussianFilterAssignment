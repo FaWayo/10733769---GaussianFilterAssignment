{
 "cells": [
  {
   "cell_type": "code",
   "execution_count": 15,
   "id": "9e0ce030",
   "metadata": {},
   "outputs": [],
   "source": [
    "import numpy as np\n",
    "import math\n",
    "def generate_kernel(size):\n",
    "    '''\n",
    "    This function generates a gaussian kernel.In this code,the σ has been set default to 1 so we only specify the size of the kernel\n",
    "    size= Size of kernel.3x3 or 5x5 or 7x7?\n",
    "    '''\n",
    "    kernel =  np.fromfunction(lambda a, b: (1/(2*math.pi*1**2)) * math.e ** ((-1*((a-(size-1)/2)**2+(b-(size-1)/2)**2))/(2*1**2)), (size, size))\n",
    "    return kernel / np.sum(kernel)"
   ]
  },
  {
   "cell_type": "code",
   "execution_count": 16,
   "id": "8f8eddf5",
   "metadata": {},
   "outputs": [],
   "source": [
    "def gaussianFilter(img,kernel_size):\n",
    "    kernel = generate_kernel(kernel_size)\n",
    "    r = int((kernel_size-1)/2)\n",
    "    gaussian = np.zeros((img.shape[0]-2*r, img.shape[1]-2*r))\n",
    "    for b in range(r, img.shape[0]-r):\n",
    "        for a in range(r, img.shape[1]-r):\n",
    "            gaussian[b-r][a-r] = np.sum(np.multiply(img[b-r:b+r+1, a-r:a+r+1], kernel))\n",
    "    return gaussian"
   ]
  },
  {
   "cell_type": "code",
   "execution_count": 17,
   "id": "f8d63cfe",
   "metadata": {},
   "outputs": [
    {
     "name": "stdout",
     "output_type": "stream",
     "text": [
      "[[2.53294593e-01 6.42352591e-01 7.46078565e-01 3.50208171e-01\n",
      "  6.65011043e-02 6.84569824e-01 4.06679739e-01 3.69750360e-01\n",
      "  3.72941108e-01 9.52170180e-01]\n",
      " [5.21917268e-02 7.31284610e-01 9.16049930e-01 3.70136412e-01\n",
      "  9.11621550e-01 3.23567615e-01 8.77046956e-01 2.59971140e-01\n",
      "  2.34968426e-01 6.68811744e-02]\n",
      " [2.76113224e-01 7.35894465e-01 7.08529130e-01 2.03654248e-01\n",
      "  3.10501652e-01 8.21822893e-01 3.55767353e-01 9.68876791e-01\n",
      "  4.60200645e-01 9.29181243e-01]\n",
      " [6.96154604e-01 8.32426435e-01 4.90027535e-01 2.11768548e-01\n",
      "  7.63908749e-02 4.10578698e-01 4.40696428e-02 1.82424690e-01\n",
      "  3.35944007e-01 9.77940638e-01]\n",
      " [7.21179396e-01 8.04482195e-01 9.64359793e-01 8.51620526e-01\n",
      "  8.30998662e-01 7.66058472e-02 4.98547643e-01 7.59735827e-01\n",
      "  9.37826554e-01 5.34747861e-01]\n",
      " [5.35531366e-01 3.46238424e-01 7.98361930e-01 1.09180303e-01\n",
      "  4.68173885e-01 3.58190372e-01 6.31558572e-02 3.34774149e-02\n",
      "  2.31251921e-01 9.41594093e-01]\n",
      " [7.78221826e-01 1.28338346e-01 7.46380318e-01 5.42519462e-01\n",
      "  9.91159647e-01 2.00693303e-01 8.81384116e-01 9.87980970e-01\n",
      "  4.72959808e-01 2.92885571e-01]\n",
      " [3.32469004e-01 7.29576332e-01 4.78504376e-01 8.51213505e-01\n",
      "  3.50498289e-01 4.45532169e-04 5.71031364e-01 5.67238636e-01\n",
      "  3.41047854e-01 8.15270478e-02]\n",
      " [1.48071929e-01 7.06224225e-01 8.76950417e-01 3.34479773e-01\n",
      "  9.88678617e-01 4.71905414e-01 8.74101858e-01 3.66732865e-03\n",
      "  1.40942333e-02 1.41050401e-01]\n",
      " [5.86197469e-01 7.94961206e-01 6.03637770e-01 1.57621248e-01\n",
      "  2.54582366e-01 6.15473223e-01 5.55488917e-02 2.42559377e-01\n",
      "  3.91376456e-01 7.78382015e-01]]\n"
     ]
    }
   ],
   "source": [
    "img= np.random.rand(10, 10)\n",
    "print(img)"
   ]
  },
  {
   "cell_type": "code",
   "execution_count": 18,
   "id": "3b82f586",
   "metadata": {},
   "outputs": [
    {
     "data": {
      "text/plain": [
       "array([[0.58893268, 0.64870893, 0.50808581, 0.47348587, 0.55971922,\n",
       "        0.55946389, 0.47642234, 0.43349534],\n",
       "       [0.6276731 , 0.59631804, 0.41967297, 0.41160495, 0.48463073,\n",
       "        0.49685002, 0.46573445, 0.5114348 ],\n",
       "       [0.70819263, 0.63151003, 0.45547058, 0.38078456, 0.3599255 ,\n",
       "        0.38556263, 0.46756425, 0.62523128],\n",
       "       [0.70825815, 0.67419438, 0.57365011, 0.43391843, 0.32445802,\n",
       "        0.29260832, 0.41040127, 0.58243877],\n",
       "       [0.59253327, 0.60605605, 0.617163  , 0.50467803, 0.41379757,\n",
       "        0.38439879, 0.4693559 , 0.53612884],\n",
       "       [0.50935207, 0.54655176, 0.60229096, 0.49487804, 0.42641948,\n",
       "        0.47776708, 0.53446687, 0.4480399 ],\n",
       "       [0.54426184, 0.62306537, 0.65572143, 0.53861722, 0.47808374,\n",
       "        0.52930541, 0.52002432, 0.31737742],\n",
       "       [0.61022586, 0.63224268, 0.55100509, 0.49870736, 0.49583371,\n",
       "        0.42205698, 0.3131105 , 0.23692198]])"
      ]
     },
     "execution_count": 18,
     "metadata": {},
     "output_type": "execute_result"
    }
   ],
   "source": [
    "gaussianFilter(img,3)"
   ]
  },
  {
   "cell_type": "code",
   "execution_count": null,
   "id": "03b3bd1a",
   "metadata": {},
   "outputs": [],
   "source": []
  }
 ],
 "metadata": {
  "kernelspec": {
   "display_name": "Python 3",
   "language": "python",
   "name": "python3"
  },
  "language_info": {
   "codemirror_mode": {
    "name": "ipython",
    "version": 3
   },
   "file_extension": ".py",
   "mimetype": "text/x-python",
   "name": "python",
   "nbconvert_exporter": "python",
   "pygments_lexer": "ipython3",
   "version": "3.8.8"
  }
 },
 "nbformat": 4,
 "nbformat_minor": 5
}
